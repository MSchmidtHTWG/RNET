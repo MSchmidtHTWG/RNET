{
 "cells": [
  {
   "cell_type": "code",
   "execution_count": 86,
   "metadata": {},
   "outputs": [],
   "source": [
    "import socket\n",
    "from struct import unpack, pack"
   ]
  },
  {
   "cell_type": "code",
   "execution_count": 87,
   "metadata": {},
   "outputs": [],
   "source": [
    "def registerRequest_encode(nick, ip, port):\n",
    "    return pack(f'BB{len(nick)}s{4}sH', 1, len(nick), nick.encode('utf-8'), socket.inet_aton(ip), port)\n",
    "\n",
    "def addUser_encode(nick, ip, port):\n",
    "    return pack(f'BB{len(nick)}s{4}sH', 3, len(nick), nick.encode('utf-8'), socket.inet_aton(ip), port)\n",
    "\n",
    "def addUser_decode(data):\n",
    "    return unpack(f'BB{len(data)-9}sBBBBH', data)\n",
    "\n",
    "def broadcastMsg_encode(msg):\n",
    "    return pack(f'BB{len(msg)}s', 5, len(msg), msg.encode('utf-8'))\n",
    "\n",
    "def broadcast_encode(nick, msg):\n",
    "    return pack(f'BB{len(nick)}sB{len(msg)}s', 6, len(nick), nick.encode('utf-8'), len(msg), msg.encode('utf-8'))\n",
    "\n",
    "def logout_encode():\n",
    "    return pack(f'B', 7)\n",
    "\n",
    "def removeUser_encode(nick):\n",
    "    return pack(f'BB{len(nick)}s', 8, len(nick), nick.encode('utf-8'))"
   ]
  },
  {
   "cell_type": "code",
   "execution_count": 88,
   "metadata": {},
   "outputs": [],
   "source": [
    "def addUser_decode2(data):\n",
    "        decoded = unpack(f'BB{len(data)-9}sBBBBH', data)\n",
    "        msgtype = decoded[0]\n",
    "        nick = decoded[2].decode('utf-8')\n",
    "        ip = str(decoded[3])+'.'+str(decoded[4])+'.'+str(decoded[5])+'.'+str(decoded[6])\n",
    "        port = decoded[7]\n",
    "        return (msgtype, nick, ip, port)"
   ]
  },
  {
   "cell_type": "code",
   "execution_count": 93,
   "metadata": {},
   "outputs": [],
   "source": [
    "def broadcastMsg_decode(data):\n",
    "        decoded = unpack(f'BB{len(data)-2}s', data)\n",
    "        return decoded[2].decode('utf-8')"
   ]
  },
  {
   "cell_type": "code",
   "execution_count": 94,
   "metadata": {},
   "outputs": [
    {
     "name": "stdout",
     "output_type": "stream",
     "text": [
      "hallo welt\n"
     ]
    }
   ],
   "source": [
    "msg = 'hallo welt'\n",
    "encoded = broadcastMsg_encode(msg)\n",
    "decoded = broadcastMsg_decode(encoded)\n",
    "print(decoded)"
   ]
  },
  {
   "cell_type": "code",
   "execution_count": 89,
   "metadata": {},
   "outputs": [],
   "source": [
    "ip = '127.0.0.2'\n",
    "nick = 'max'\n",
    "port = 50"
   ]
  },
  {
   "cell_type": "code",
   "execution_count": 90,
   "metadata": {},
   "outputs": [
    {
     "name": "stdout",
     "output_type": "stream",
     "text": [
      "(3, 'max', '127.0.0.2', 50)\n"
     ]
    }
   ],
   "source": [
    "userEncoded = addUser_encode(nick, ip, port)\n",
    "userDecoded = addUser_decode2(userEncoded)\n",
    "print(userDecoded)"
   ]
  },
  {
   "cell_type": "code",
   "execution_count": 69,
   "metadata": {},
   "outputs": [
    {
     "name": "stdout",
     "output_type": "stream",
     "text": [
      "b'\\x7f\\x00\\x00\\x02'\n",
      "b'\\x03\\x03max\\x7f\\x00\\x00\\x02\\x002\\x00'\n",
      "(3, 3, b'max', 127, 0, 0, 2, 50)\n"
     ]
    }
   ],
   "source": [
    "print(socket.inet_aton(ip))\n",
    "print(addUser_encode('max', '127.0.0.2', 50))\n",
    "print(addUser_decode(addUser_encode('max', '127.0.0.2', 50)))"
   ]
  },
  {
   "cell_type": "code",
   "execution_count": 71,
   "metadata": {},
   "outputs": [
    {
     "name": "stdout",
     "output_type": "stream",
     "text": [
      "1\n",
      "1\n",
      "1234\n"
     ]
    }
   ],
   "source": [
    "data = pack(f'B{4}s', 1, '1234'.encode('utf-8'))\n",
    "unpacked = unpack(f'B{4}s', data)\n",
    "print(data[0])\n",
    "print(unpacked[0])\n",
    "print(unpacked[1].decode('utf-8'))"
   ]
  }
 ],
 "metadata": {
  "interpreter": {
   "hash": "ad8259fb0131ae414e0fed75b17e89163033ec83dd8a20ff234b9709c1123196"
  },
  "kernelspec": {
   "display_name": "Python 3.9.4 64-bit",
   "language": "python",
   "name": "python3"
  },
  "language_info": {
   "codemirror_mode": {
    "name": "ipython",
    "version": 3
   },
   "file_extension": ".py",
   "mimetype": "text/x-python",
   "name": "python",
   "nbconvert_exporter": "python",
   "pygments_lexer": "ipython3",
   "version": "3.9.4"
  },
  "orig_nbformat": 4
 },
 "nbformat": 4,
 "nbformat_minor": 2
}
