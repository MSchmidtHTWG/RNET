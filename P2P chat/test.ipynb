{
 "cells": [
  {
   "cell_type": "code",
   "execution_count": 111,
   "metadata": {},
   "outputs": [],
   "source": [
    "import socket\n",
    "from struct import unpack, pack"
   ]
  },
  {
   "cell_type": "code",
   "execution_count": 112,
   "metadata": {},
   "outputs": [],
   "source": [
    "class Codec:\n",
    "    @staticmethod\n",
    "    def registerRequest_encode(nick, ip, port):\n",
    "        return pack(f'=BB{len(nick)}s{4}sH', 1, len(nick), nick.encode('utf-8'), socket.inet_aton(ip), port)\n",
    "    @staticmethod\n",
    "    def registerResponse_encode(nick, ip, port):\n",
    "        return pack(f'=BB{len(nick)}s{4}sH', 2, len(nick), nick.encode('utf-8'), socket.inet_aton(ip), port)\n",
    "    @staticmethod\n",
    "    def addUser_encode(nick, ip, port):\n",
    "        return pack(f'=BB{len(nick)}s{4}sH', 3, len(nick), nick.encode('utf-8'), socket.inet_aton(ip), port)\n",
    "    @staticmethod\n",
    "    def broadcastMsg_encode(msg):\n",
    "        return pack(f'=BB{len(msg)}s', 5, len(msg), msg.encode('utf-8'))\n",
    "    @staticmethod\n",
    "    def broadcast_encode(nick, msg):\n",
    "        return pack(f'=BB{len(nick)}sB{len(msg)}s', 6, len(nick), nick.encode('utf-8'), len(msg), msg.encode('utf-8'))\n",
    "    @staticmethod\n",
    "    def logout_encode():\n",
    "        return pack(f'=B', 7)\n",
    "    @staticmethod\n",
    "    def removeUser_encode(nick):\n",
    "        return pack(f'=BB{len(nick)}s', 8, len(nick), nick.encode('utf-8'))\n",
    "    @staticmethod\n",
    "    def registerRequest_decode(data):\n",
    "        decoded = unpack(f'=BB{len(data)-8}sBBBBH', data)\n",
    "        nick = str(decoded[2].decode('utf-8'))\n",
    "        ip = str(decoded[3])+'.'+str(decoded[4])+'.'+str(decoded[5])+'.'+str(decoded[6])\n",
    "        port = decoded[7]\n",
    "        return (nick, ip, port)\n",
    "    @staticmethod\n",
    "    def registerResponse_decode(data):\n",
    "        decoded = unpack(f'=BB{len(data)-8}sBBBBH', data)\n",
    "        nick = decoded[2].decode('utf-8')\n",
    "        ip = str(decoded[3])+'.'+str(decoded[4])+'.'+str(decoded[5])+'.'+str(decoded[6])\n",
    "        port = decoded[7]\n",
    "        return (nick, ip, port)\n",
    "    @staticmethod\n",
    "    def addUser_decode(data):\n",
    "        decoded = unpack(f'=BB{len(data)-8}sBBBBH', data)\n",
    "        nick = decoded[2].decode('utf-8')\n",
    "        ip = str(decoded[3])+'.'+str(decoded[4])+'.'+str(decoded[5])+'.'+str(decoded[6])\n",
    "        port = decoded[7]\n",
    "        return (nick, ip, port)\n",
    "    @staticmethod\n",
    "    def broadcastMsg_decode(data):\n",
    "        decoded = unpack(f'=BB{len(data)-2}s', data)\n",
    "        return decoded[2].decode('utf-8')\n",
    "    @staticmethod\n",
    "    def broadcast_decode(data):\n",
    "        nicklen = data[1]\n",
    "        msglen = data[nicklen+2]\n",
    "        decoded = unpack(f'=BB{nicklen}sB{msglen}s', data)\n",
    "        nick = decoded[2].decode('utf-8')\n",
    "        msg = decoded[4].decode('utf-8')\n",
    "        return (nick, msg)\n",
    "    @staticmethod\n",
    "    def removeUser_decode(data):\n",
    "        nicklen = data[1]\n",
    "        decoded = unpack(f'=BB{nicklen}s', data)\n",
    "        return decoded[2].decode('utf-8')"
   ]
  },
  {
   "cell_type": "code",
   "execution_count": 113,
   "metadata": {},
   "outputs": [],
   "source": [
    "def registerRequest_encode(nick, ip, port):\n",
    "    return pack(f'BB{len(nick)}s{4}sH', 1, len(nick), nick.encode('utf-8'), socket.inet_aton(ip), port)\n",
    "\n",
    "def addUser_encode(nick, ip, port):\n",
    "    return pack(f'BB{len(nick)}s{4}sH', 3, len(nick), nick.encode('utf-8'), socket.inet_aton(ip), port)\n",
    "\n",
    "def addUser_decode(data):\n",
    "    return unpack(f'BB{len(data)-9}sBBBBH', data)\n",
    "\n",
    "def broadcastMsg_encode(msg):\n",
    "    return pack(f'BB{len(msg)}s', 5, len(msg), msg.encode('utf-8'))\n",
    "\n",
    "def broadcast_encode(nick, msg):\n",
    "    return pack(f'BB{len(nick)}sB{len(msg)}s', 6, len(nick), nick.encode('utf-8'), len(msg), msg.encode('utf-8'))\n",
    "\n",
    "def logout_encode():\n",
    "    return pack(f'B', 7)\n",
    "\n",
    "def removeUser_encode(nick):\n",
    "    return pack(f'BB{len(nick)}s', 8, len(nick), nick.encode('utf-8'))"
   ]
  },
  {
   "cell_type": "code",
   "execution_count": 114,
   "metadata": {},
   "outputs": [],
   "source": [
    "def addUser_decode2(data):\n",
    "        decoded = unpack(f'BB{len(data)-9}sBBBBH', data)\n",
    "        msgtype = decoded[0]\n",
    "        nick = decoded[2].decode('utf-8')\n",
    "        ip = str(decoded[3])+'.'+str(decoded[4])+'.'+str(decoded[5])+'.'+str(decoded[6])\n",
    "        port = decoded[7]\n",
    "        return (msgtype, nick, ip, port)"
   ]
  },
  {
   "cell_type": "code",
   "execution_count": 115,
   "metadata": {},
   "outputs": [],
   "source": [
    "def broadcastMsg_decode(data):\n",
    "        decoded = unpack(f'BB{len(data)-2}s', data)\n",
    "        return decoded[2].decode('utf-8')"
   ]
  },
  {
   "cell_type": "code",
   "execution_count": 116,
   "metadata": {},
   "outputs": [],
   "source": [
    "def broadcast_decode(data):\n",
    "        nicklen = data[1]\n",
    "        msglen = data[nicklen+2]\n",
    "        decoded = unpack(f'BB{nicklen}sB{msglen}s', data)\n",
    "        nick = decoded[2].decode('utf-8')\n",
    "        msg = decoded[4].decode('utf-8')\n",
    "        return (nick, msg)"
   ]
  },
  {
   "cell_type": "code",
   "execution_count": 117,
   "metadata": {},
   "outputs": [],
   "source": [
    "ip = '127.0.0.2'\n",
    "nick = 'max'\n",
    "port = 50\n",
    "msg = 'hallo welt'"
   ]
  },
  {
   "cell_type": "code",
   "execution_count": 118,
   "metadata": {},
   "outputs": [
    {
     "name": "stdout",
     "output_type": "stream",
     "text": [
      "b'\\x06\\x03max\\nhallo welt'\n",
      "3\n",
      "10\n"
     ]
    }
   ],
   "source": [
    "encoded = broadcast_encode(nick, msg)\n",
    "decoded = broadcast_decode(encoded)\n",
    "nicklen = encoded[1]\n",
    "msglen = encoded[nicklen+2]\n",
    "print(encoded)\n",
    "print(nicklen)\n",
    "print(msglen)\n",
    "#print(decoded)"
   ]
  },
  {
   "cell_type": "code",
   "execution_count": 119,
   "metadata": {},
   "outputs": [
    {
     "name": "stdout",
     "output_type": "stream",
     "text": [
      "hallo welt\n"
     ]
    }
   ],
   "source": [
    "encoded = broadcastMsg_encode(msg)\n",
    "decoded = broadcastMsg_decode(encoded)\n",
    "print(decoded)"
   ]
  },
  {
   "cell_type": "code",
   "execution_count": 120,
   "metadata": {},
   "outputs": [
    {
     "name": "stdout",
     "output_type": "stream",
     "text": [
      "(3, 'max', '127.0.0.2', 50)\n"
     ]
    }
   ],
   "source": [
    "userEncoded = addUser_encode(nick, ip, port)\n",
    "userDecoded = addUser_decode2(userEncoded)\n",
    "print(userDecoded)"
   ]
  },
  {
   "cell_type": "code",
   "execution_count": 121,
   "metadata": {},
   "outputs": [
    {
     "name": "stdout",
     "output_type": "stream",
     "text": [
      "b'\\x7f\\x00\\x00\\x02'\n",
      "b'\\x03\\x03max\\x7f\\x00\\x00\\x02\\x002\\x00'\n",
      "(3, 3, b'max', 127, 0, 0, 2, 50)\n"
     ]
    }
   ],
   "source": [
    "print(socket.inet_aton(ip))\n",
    "print(addUser_encode('max', '127.0.0.2', 50))\n",
    "print(addUser_decode(addUser_encode('max', '127.0.0.2', 50)))"
   ]
  },
  {
   "cell_type": "code",
   "execution_count": 122,
   "metadata": {},
   "outputs": [
    {
     "name": "stdout",
     "output_type": "stream",
     "text": [
      "1\n",
      "1\n",
      "1234\n"
     ]
    }
   ],
   "source": [
    "data = pack(f'B{4}s', 1, '1234'.encode('utf-8'))\n",
    "unpacked = unpack(f'B{4}s', data)\n",
    "print(data[0])\n",
    "print(unpacked[0])\n",
    "print(unpacked[1].decode('utf-8'))"
   ]
  },
  {
   "cell_type": "code",
   "execution_count": 123,
   "metadata": {},
   "outputs": [
    {
     "name": "stdout",
     "output_type": "stream",
     "text": [
      "max\n",
      "('127.0.0.2', 50)\n"
     ]
    }
   ],
   "source": [
    "user = dict()\n",
    "user.update({nick : (ip, port)})\n",
    "for u in user:\n",
    "    print(u)\n",
    "    print(user.get(u))"
   ]
  },
  {
   "cell_type": "code",
   "execution_count": 124,
   "metadata": {},
   "outputs": [
    {
     "name": "stdout",
     "output_type": "stream",
     "text": [
      "9\n",
      "10\n",
      "11\n",
      "12\n",
      "13\n",
      "8\n",
      "('a', '127.0.0.2', 50)\n",
      "('bb', '127.0.0.2', 50)\n",
      "a\n",
      "bb\n"
     ]
    }
   ],
   "source": [
    "a = Codec.registerRequest_encode('a', ip, port)\n",
    "b = Codec.registerRequest_encode('bb', ip, port)\n",
    "c = Codec.registerRequest_encode('ccc', ip, port)\n",
    "d = Codec.registerRequest_encode('dddd', ip, port)\n",
    "e = Codec.registerRequest_encode('eeeee', ip, port)\n",
    "empty = Codec.registerRequest_encode('', ip, port)\n",
    "da = Codec.registerRequest_decode(a)\n",
    "db = Codec.registerRequest_decode(b)\n",
    "print(len(a))\n",
    "print(len(b))\n",
    "print(len(c))\n",
    "print(len(d))\n",
    "print(len(e))\n",
    "print(len(empty))\n",
    "print(da)\n",
    "print(db)\n",
    "print(da[0])\n",
    "print(db[0])"
   ]
  },
  {
   "cell_type": "code",
   "execution_count": 125,
   "metadata": {},
   "outputs": [
    {
     "name": "stdout",
     "output_type": "stream",
     "text": [
      "3\n",
      "3\n"
     ]
    }
   ],
   "source": [
    "print(len(nick))\n",
    "print(len(nick.encode('utf-8')))"
   ]
  }
 ],
 "metadata": {
  "interpreter": {
   "hash": "ad8259fb0131ae414e0fed75b17e89163033ec83dd8a20ff234b9709c1123196"
  },
  "kernelspec": {
   "display_name": "Python 3.9.4 64-bit",
   "language": "python",
   "name": "python3"
  },
  "language_info": {
   "codemirror_mode": {
    "name": "ipython",
    "version": 3
   },
   "file_extension": ".py",
   "mimetype": "text/x-python",
   "name": "python",
   "nbconvert_exporter": "python",
   "pygments_lexer": "ipython3",
   "version": "3.9.4"
  },
  "orig_nbformat": 4
 },
 "nbformat": 4,
 "nbformat_minor": 2
}
