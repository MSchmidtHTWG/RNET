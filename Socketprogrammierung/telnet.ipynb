{
 "cells": [
  {
   "cell_type": "code",
   "execution_count": 1,
   "metadata": {},
   "outputs": [],
   "source": [
    "from telnetlib import Telnet"
   ]
  },
  {
   "cell_type": "code",
   "execution_count": 2,
   "metadata": {},
   "outputs": [
    {
     "name": "stdout",
     "output_type": "stream",
     "text": [
      "b'220 asmtp.htwg-konstanz.de ESMTP Postfix (Debian/G'\n",
      "b'NU)\\r\\n'\n",
      "b'250 asmtp.htwg-konstanz.de\\r\\n'\n",
      "b'334 VXNlcm5hbWU6\\r\\n'\n",
      "b'334 UGFzc3dvcmQ6\\r\\n'\n",
      "b'235 2.7.0 Authentication successful\\r\\n'\n",
      "b'250 2.1.0 Ok\\r\\n'\n",
      "b'250 2.1.5 Ok\\r\\n'\n",
      "b'354 End data with <CR><LF>.<CR><LF>\\r\\n'\n",
      "b'250 2.0.0 Ok: queued as 6A20C8009D\\r\\n'\n"
     ]
    }
   ],
   "source": [
    "host = 'asmtp.htwg-konstanz.de'\n",
    "port = 587\n",
    "\n",
    "tn = Telnet(host, port)\n",
    "print(tn.read_some())\n",
    "tn.write(b\"HELO asmtp.htwg-konstanz.de\\n\")\n",
    "print(tn.read_some())\n",
    "tn.write(b\"AUTH LOGIN\\n\")\n",
    "print(tn.read_some())\n",
    "tn.write(b\"cm5ldGlu\\n\")\n",
    "print(tn.read_some())\n",
    "tn.write(b\"VWViZW44ZnVlcjhSTg==\\n\")\n",
    "print(tn.read_some())\n",
    "print(tn.read_some())\n",
    "tn.write(b\"MAIL FROM:<x@gmail.de>\\n\")\n",
    "print(tn.read_some())\n",
    "tn.write(b\"RCPT TO:<maximilian.schmidt@htwg-konstanz.de>\\n\")\n",
    "print(tn.read_some())\n",
    "tn.write(b\"DATA\\n\")\n",
    "print(tn.read_some())\n",
    "tn.write(b\"Subject: RNETtest\\n\")\n",
    "tn.write(b\"Hallo Welt\\n\")\n",
    "tn.write(b\".\\n\")\n",
    "print(tn.read_some())"
   ]
  }
 ],
 "metadata": {
  "interpreter": {
   "hash": "ad8259fb0131ae414e0fed75b17e89163033ec83dd8a20ff234b9709c1123196"
  },
  "kernelspec": {
   "display_name": "Python 3.9.4 64-bit",
   "language": "python",
   "name": "python3"
  },
  "language_info": {
   "codemirror_mode": {
    "name": "ipython",
    "version": 3
   },
   "file_extension": ".py",
   "mimetype": "text/x-python",
   "name": "python",
   "nbconvert_exporter": "python",
   "pygments_lexer": "ipython3",
   "version": "3.9.4"
  },
  "orig_nbformat": 4
 },
 "nbformat": 4,
 "nbformat_minor": 2
}
